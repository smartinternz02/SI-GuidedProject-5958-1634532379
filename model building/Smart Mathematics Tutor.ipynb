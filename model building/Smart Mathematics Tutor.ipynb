{
 "cells": [
  {
   "cell_type": "code",
   "execution_count": 1,
   "id": "3c4b2b19",
   "metadata": {},
   "outputs": [],
   "source": [
    "import pandas as pd\n",
    "import numpy as np"
   ]
  },
  {
   "cell_type": "code",
   "execution_count": 2,
   "id": "22c0b15a",
   "metadata": {},
   "outputs": [],
   "source": [
    "from tensorflow.keras.models import Sequential\n",
    "from tensorflow.keras.layers import Dense, Convolution2D, MaxPooling2D, Flatten, Dropout"
   ]
  },
  {
   "cell_type": "code",
   "execution_count": 3,
   "id": "2ab87bd8",
   "metadata": {},
   "outputs": [],
   "source": [
    "from tensorflow.keras.preprocessing .image import ImageDataGenerator"
   ]
  },
  {
   "cell_type": "code",
   "execution_count": 4,
   "id": "f05186f0",
   "metadata": {},
   "outputs": [],
   "source": [
    "train_datagen = ImageDataGenerator(rescale = 1./255, shear_range = 0.2, zoom_range = 0.2, horizontal_flip = True)\n",
    "test_datagen = ImageDataGenerator(rescale = 1./255)"
   ]
  },
  {
   "cell_type": "code",
   "execution_count": 5,
   "id": "80ed4bbe",
   "metadata": {},
   "outputs": [
    {
     "name": "stdout",
     "output_type": "stream",
     "text": [
      "Found 10941 images belonging to 3 classes.\n",
      "Found 300 images belonging to 3 classes.\n"
     ]
    }
   ],
   "source": [
    "x_train = train_datagen.flow_from_directory(r\"C:\\Project\\Dataset\\train\",target_size = (64,64),batch_size = 32,\n",
    "                                            class_mode = \"categorical\")\n",
    "x_test = test_datagen.flow_from_directory(r\"C:\\Project\\Dataset\\test\",target_size = (64,64),batch_size = 32,\n",
    "                                          class_mode = \"categorical\")"
   ]
  },
  {
   "cell_type": "code",
   "execution_count": 6,
   "id": "8fad0101",
   "metadata": {},
   "outputs": [],
   "source": [
    "model = Sequential()"
   ]
  },
  {
   "cell_type": "code",
   "execution_count": 7,
   "id": "eb95ec97",
   "metadata": {},
   "outputs": [],
   "source": [
    "model.add(Convolution2D(32,(3,3),input_shape = (64,64,3)))"
   ]
  },
  {
   "cell_type": "code",
   "execution_count": 8,
   "id": "fdace023",
   "metadata": {},
   "outputs": [],
   "source": [
    "model.add(MaxPooling2D((2,2)))"
   ]
  },
  {
   "cell_type": "code",
   "execution_count": 9,
   "id": "d87f4be8",
   "metadata": {},
   "outputs": [],
   "source": [
    "model.add(Flatten())"
   ]
  },
  {
   "cell_type": "code",
   "execution_count": 10,
   "id": "9a7772f2",
   "metadata": {},
   "outputs": [],
   "source": [
    "model.add(Dense(units = 128, kernel_initializer= \"random_uniform\",activation = \"relu\"))"
   ]
  },
  {
   "cell_type": "code",
   "execution_count": 11,
   "id": "435fc47c",
   "metadata": {},
   "outputs": [],
   "source": [
    "model.add(Dense(units = 3 , kernel_initializer= \"random_uniform\",activation = \"softmax\"))"
   ]
  },
  {
   "cell_type": "code",
   "execution_count": 12,
   "id": "5d9326e2",
   "metadata": {},
   "outputs": [],
   "source": [
    "model.compile(optimizer= \"adam\",loss = \"categorical_crossentropy\" , metrics =[\"accuracy\"])"
   ]
  },
  {
   "cell_type": "code",
   "execution_count": 13,
   "id": "be91761b",
   "metadata": {},
   "outputs": [
    {
     "name": "stderr",
     "output_type": "stream",
     "text": [
      "C:\\Users\\Anusha T P\\anaconda3\\lib\\site-packages\\keras\\engine\\training.py:1972: UserWarning: `Model.fit_generator` is deprecated and will be removed in a future version. Please use `Model.fit`, which supports generators.\n",
      "  warnings.warn('`Model.fit_generator` is deprecated and '\n"
     ]
    },
    {
     "name": "stdout",
     "output_type": "stream",
     "text": [
      "Epoch 1/100\n",
      "342/342 [==============================] - 36s 99ms/step - loss: 0.3859 - accuracy: 0.8526 - val_loss: 0.0523 - val_accuracy: 1.0000\n",
      "Epoch 2/100\n",
      "342/342 [==============================] - 34s 101ms/step - loss: 0.0603 - accuracy: 0.9838 - val_loss: 0.0024 - val_accuracy: 1.0000\n",
      "Epoch 3/100\n",
      "342/342 [==============================] - 36s 104ms/step - loss: 0.0198 - accuracy: 0.9954 - val_loss: 6.2951e-05 - val_accuracy: 1.0000\n",
      "Epoch 4/100\n",
      "342/342 [==============================] - 37s 107ms/step - loss: 0.0047 - accuracy: 0.9991 - val_loss: 1.2595e-04 - val_accuracy: 1.0000\n",
      "Epoch 5/100\n",
      "342/342 [==============================] - 35s 103ms/step - loss: 0.0016 - accuracy: 0.9997 - val_loss: 8.7141e-06 - val_accuracy: 1.0000\n",
      "Epoch 6/100\n",
      "342/342 [==============================] - 36s 104ms/step - loss: 0.0036 - accuracy: 0.9990 - val_loss: 6.3971e-06 - val_accuracy: 1.0000\n",
      "Epoch 7/100\n",
      "342/342 [==============================] - 76s 221ms/step - loss: 0.0015 - accuracy: 0.9996 - val_loss: 6.3466e-06 - val_accuracy: 1.0000\n",
      "Epoch 8/100\n",
      "342/342 [==============================] - 91s 267ms/step - loss: 0.0018 - accuracy: 0.9998 - val_loss: 9.4759e-06 - val_accuracy: 1.0000\n",
      "Epoch 9/100\n",
      "342/342 [==============================] - 139s 407ms/step - loss: 9.6009e-04 - accuracy: 0.9998 - val_loss: 2.0305e-06 - val_accuracy: 1.0000\n",
      "Epoch 10/100\n",
      "342/342 [==============================] - 61s 177ms/step - loss: 0.0013 - accuracy: 0.9997 - val_loss: 2.5129e-06 - val_accuracy: 1.0000\n",
      "Epoch 11/100\n",
      "342/342 [==============================] - 55s 160ms/step - loss: 1.1188e-04 - accuracy: 1.0000 - val_loss: 7.2479e-07 - val_accuracy: 1.0000\n",
      "Epoch 12/100\n",
      "342/342 [==============================] - 60s 174ms/step - loss: 0.0151 - accuracy: 0.9947 - val_loss: 2.5394e-05 - val_accuracy: 1.0000\n",
      "Epoch 13/100\n",
      "342/342 [==============================] - 37s 109ms/step - loss: 9.3424e-04 - accuracy: 0.9996 - val_loss: 5.7343e-06 - val_accuracy: 1.0000\n",
      "Epoch 14/100\n",
      "342/342 [==============================] - 75s 221ms/step - loss: 0.0011 - accuracy: 0.9997 - val_loss: 1.3803e-05 - val_accuracy: 1.0000\n",
      "Epoch 15/100\n",
      "342/342 [==============================] - 30s 88ms/step - loss: 8.0669e-05 - accuracy: 1.0000 - val_loss: 4.4397e-06 - val_accuracy: 1.0000\n",
      "Epoch 16/100\n",
      "342/342 [==============================] - 33s 96ms/step - loss: 1.0053e-04 - accuracy: 1.0000 - val_loss: 1.9966e-05 - val_accuracy: 1.0000\n",
      "Epoch 17/100\n",
      "342/342 [==============================] - 33s 97ms/step - loss: 5.5342e-05 - accuracy: 1.0000 - val_loss: 3.7169e-06 - val_accuracy: 1.0000\n",
      "Epoch 18/100\n",
      "342/342 [==============================] - 33s 98ms/step - loss: 4.1169e-04 - accuracy: 0.9998 - val_loss: 2.0684e-04 - val_accuracy: 1.0000\n",
      "Epoch 19/100\n",
      "342/342 [==============================] - 33s 97ms/step - loss: 0.0019 - accuracy: 0.9994 - val_loss: 1.0729e-06 - val_accuracy: 1.0000\n",
      "Epoch 20/100\n",
      "342/342 [==============================] - 33s 97ms/step - loss: 2.2951e-05 - accuracy: 1.0000 - val_loss: 4.8439e-07 - val_accuracy: 1.0000\n",
      "Epoch 21/100\n",
      "342/342 [==============================] - 34s 99ms/step - loss: 2.4418e-05 - accuracy: 1.0000 - val_loss: 1.0490e-07 - val_accuracy: 1.0000\n",
      "Epoch 22/100\n",
      "342/342 [==============================] - 36s 104ms/step - loss: 0.0143 - accuracy: 0.9961 - val_loss: 1.9169e-06 - val_accuracy: 1.0000\n",
      "Epoch 23/100\n",
      "342/342 [==============================] - 35s 104ms/step - loss: 1.4110e-05 - accuracy: 1.0000 - val_loss: 1.2763e-06 - val_accuracy: 1.0000\n",
      "Epoch 24/100\n",
      "342/342 [==============================] - 36s 104ms/step - loss: 1.7305e-05 - accuracy: 1.0000 - val_loss: 9.0798e-07 - val_accuracy: 1.0000\n",
      "Epoch 25/100\n",
      "342/342 [==============================] - 36s 105ms/step - loss: 0.0013 - accuracy: 0.9998 - val_loss: 3.5921e-06 - val_accuracy: 1.0000\n",
      "Epoch 26/100\n",
      "342/342 [==============================] - 36s 106ms/step - loss: 5.3431e-04 - accuracy: 0.9996 - val_loss: 3.7527e-06 - val_accuracy: 1.0000\n",
      "Epoch 27/100\n",
      "342/342 [==============================] - 36s 104ms/step - loss: 4.0873e-05 - accuracy: 1.0000 - val_loss: 3.2162e-06 - val_accuracy: 1.0000\n",
      "Epoch 28/100\n",
      "342/342 [==============================] - 36s 105ms/step - loss: 1.4078e-05 - accuracy: 1.0000 - val_loss: 1.3371e-06 - val_accuracy: 1.0000\n",
      "Epoch 29/100\n",
      "342/342 [==============================] - 46s 133ms/step - loss: 9.4253e-04 - accuracy: 0.9999 - val_loss: 2.0901e-07 - val_accuracy: 1.0000\n",
      "Epoch 30/100\n",
      "342/342 [==============================] - 192s 562ms/step - loss: 3.5499e-04 - accuracy: 0.9998 - val_loss: 1.3908e-08 - val_accuracy: 1.0000\n",
      "Epoch 31/100\n",
      "342/342 [==============================] - 79s 232ms/step - loss: 0.0132 - accuracy: 0.9965 - val_loss: 0.0000e+00 - val_accuracy: 1.0000\n",
      "Epoch 32/100\n",
      "342/342 [==============================] - 33s 96ms/step - loss: 0.0011 - accuracy: 0.9995 - val_loss: 0.0000e+00 - val_accuracy: 1.0000\n",
      "Epoch 33/100\n",
      "342/342 [==============================] - 36s 104ms/step - loss: 1.4272e-05 - accuracy: 1.0000 - val_loss: 0.0000e+00 - val_accuracy: 1.0000\n",
      "Epoch 34/100\n",
      "342/342 [==============================] - 35s 103ms/step - loss: 6.3932e-06 - accuracy: 1.0000 - val_loss: 0.0000e+00 - val_accuracy: 1.0000\n",
      "Epoch 35/100\n",
      "342/342 [==============================] - 35s 103ms/step - loss: 2.3915e-04 - accuracy: 1.0000 - val_loss: 3.7392e-07 - val_accuracy: 1.0000\n",
      "Epoch 36/100\n",
      "342/342 [==============================] - 36s 105ms/step - loss: 4.4966e-04 - accuracy: 0.9998 - val_loss: 0.0000e+00 - val_accuracy: 1.0000\n",
      "Epoch 37/100\n",
      "342/342 [==============================] - 38s 110ms/step - loss: 1.0678e-04 - accuracy: 1.0000 - val_loss: 0.0000e+00 - val_accuracy: 1.0000\n",
      "Epoch 38/100\n",
      "342/342 [==============================] - 36s 105ms/step - loss: 2.0162e-06 - accuracy: 1.0000 - val_loss: 0.0000e+00 - val_accuracy: 1.0000\n",
      "Epoch 39/100\n",
      "342/342 [==============================] - 36s 104ms/step - loss: 1.9994e-05 - accuracy: 1.0000 - val_loss: 0.0000e+00 - val_accuracy: 1.0000\n",
      "Epoch 40/100\n",
      "342/342 [==============================] - 36s 104ms/step - loss: 8.0697e-07 - accuracy: 1.0000 - val_loss: 0.0000e+00 - val_accuracy: 1.0000\n",
      "Epoch 41/100\n",
      "342/342 [==============================] - 35s 104ms/step - loss: 1.5682e-07 - accuracy: 1.0000 - val_loss: 0.0000e+00 - val_accuracy: 1.0000\n",
      "Epoch 42/100\n",
      "342/342 [==============================] - 36s 105ms/step - loss: 1.0682e-05 - accuracy: 1.0000 - val_loss: 3.9736e-10 - val_accuracy: 1.0000\n",
      "Epoch 43/100\n",
      "342/342 [==============================] - 36s 104ms/step - loss: 3.1379e-06 - accuracy: 1.0000 - val_loss: 0.0000e+00 - val_accuracy: 1.0000\n",
      "Epoch 44/100\n",
      "342/342 [==============================] - 36s 104ms/step - loss: 6.0178e-07 - accuracy: 1.0000 - val_loss: 0.0000e+00 - val_accuracy: 1.0000\n",
      "Epoch 45/100\n",
      "342/342 [==============================] - 36s 104ms/step - loss: 3.1461e-07 - accuracy: 1.0000 - val_loss: 0.0000e+00 - val_accuracy: 1.0000\n",
      "Epoch 46/100\n",
      "342/342 [==============================] - 35s 103ms/step - loss: 2.5105e-07 - accuracy: 1.0000 - val_loss: 0.0000e+00 - val_accuracy: 1.0000\n",
      "Epoch 47/100\n",
      "342/342 [==============================] - 36s 104ms/step - loss: 1.5675e-07 - accuracy: 1.0000 - val_loss: 0.0000e+00 - val_accuracy: 1.0000\n",
      "Epoch 48/100\n",
      "342/342 [==============================] - 36s 104ms/step - loss: 3.7050e-07 - accuracy: 1.0000 - val_loss: 0.0000e+00 - val_accuracy: 1.0000\n",
      "Epoch 49/100\n",
      "342/342 [==============================] - 35s 104ms/step - loss: 1.4205e-07 - accuracy: 1.0000 - val_loss: 0.0000e+00 - val_accuracy: 1.0000\n",
      "Epoch 50/100\n",
      "342/342 [==============================] - 36s 104ms/step - loss: 0.0218 - accuracy: 0.9949 - val_loss: 5.1657e-07 - val_accuracy: 1.0000\n",
      "Epoch 51/100\n",
      "342/342 [==============================] - 36s 105ms/step - loss: 0.0015 - accuracy: 0.9996 - val_loss: 2.5896e-06 - val_accuracy: 1.0000\n",
      "Epoch 52/100\n",
      "342/342 [==============================] - 36s 105ms/step - loss: 7.5768e-06 - accuracy: 1.0000 - val_loss: 1.5803e-06 - val_accuracy: 1.0000\n",
      "Epoch 53/100\n",
      "342/342 [==============================] - 36s 105ms/step - loss: 1.5584e-04 - accuracy: 0.9999 - val_loss: 4.0134e-07 - val_accuracy: 1.0000\n",
      "Epoch 54/100\n"
     ]
    },
    {
     "name": "stdout",
     "output_type": "stream",
     "text": [
      "342/342 [==============================] - 35s 102ms/step - loss: 4.4918e-05 - accuracy: 1.0000 - val_loss: 1.9459e-06 - val_accuracy: 1.0000\n",
      "Epoch 55/100\n",
      "342/342 [==============================] - 35s 102ms/step - loss: 7.5227e-06 - accuracy: 1.0000 - val_loss: 1.0633e-06 - val_accuracy: 1.0000\n",
      "Epoch 56/100\n",
      "342/342 [==============================] - 35s 102ms/step - loss: 5.6397e-06 - accuracy: 1.0000 - val_loss: 6.5803e-07 - val_accuracy: 1.0000\n",
      "Epoch 57/100\n",
      "342/342 [==============================] - 37s 108ms/step - loss: 2.7701e-06 - accuracy: 1.0000 - val_loss: 5.9565e-07 - val_accuracy: 1.0000\n",
      "Epoch 58/100\n",
      "342/342 [==============================] - 36s 106ms/step - loss: 1.5285e-06 - accuracy: 1.0000 - val_loss: 4.6015e-07 - val_accuracy: 1.0000\n",
      "Epoch 59/100\n",
      "342/342 [==============================] - 35s 103ms/step - loss: 1.2092e-06 - accuracy: 1.0000 - val_loss: 3.4928e-07 - val_accuracy: 1.0000\n",
      "Epoch 60/100\n",
      "342/342 [==============================] - 36s 104ms/step - loss: 1.0713e-06 - accuracy: 1.0000 - val_loss: 2.9842e-07 - val_accuracy: 1.0000\n",
      "Epoch 61/100\n",
      "342/342 [==============================] - 36s 105ms/step - loss: 2.2446e-06 - accuracy: 1.0000 - val_loss: 2.2809e-07 - val_accuracy: 1.0000\n",
      "Epoch 62/100\n",
      "342/342 [==============================] - 36s 105ms/step - loss: 0.0418 - accuracy: 0.9937 - val_loss: 1.4305e-08 - val_accuracy: 1.0000\n",
      "Epoch 63/100\n",
      "342/342 [==============================] - 35s 104ms/step - loss: 5.7545e-04 - accuracy: 0.9999 - val_loss: 0.0000e+00 - val_accuracy: 1.0000\n",
      "Epoch 64/100\n",
      "342/342 [==============================] - 36s 104ms/step - loss: 2.7396e-05 - accuracy: 1.0000 - val_loss: 0.0000e+00 - val_accuracy: 1.0000\n",
      "Epoch 65/100\n",
      "342/342 [==============================] - 36s 104ms/step - loss: 3.7562e-07 - accuracy: 1.0000 - val_loss: 0.0000e+00 - val_accuracy: 1.0000\n",
      "Epoch 66/100\n",
      "342/342 [==============================] - 36s 105ms/step - loss: 1.3974e-06 - accuracy: 1.0000 - val_loss: 0.0000e+00 - val_accuracy: 1.0000\n",
      "Epoch 67/100\n",
      "342/342 [==============================] - 38s 112ms/step - loss: 0.0145 - accuracy: 0.9977 - val_loss: 0.0000e+00 - val_accuracy: 1.0000\n",
      "Epoch 68/100\n",
      "342/342 [==============================] - 41s 120ms/step - loss: 7.5088e-04 - accuracy: 0.9997 - val_loss: 0.0000e+00 - val_accuracy: 1.0000\n",
      "Epoch 69/100\n",
      "342/342 [==============================] - 37s 109ms/step - loss: 5.8990e-07 - accuracy: 1.0000 - val_loss: 0.0000e+00 - val_accuracy: 1.0000\n",
      "Epoch 70/100\n",
      "342/342 [==============================] - 36s 105ms/step - loss: 3.5807e-04 - accuracy: 0.9998 - val_loss: 0.0000e+00 - val_accuracy: 1.0000\n",
      "Epoch 71/100\n",
      "342/342 [==============================] - 36s 107ms/step - loss: 3.8082e-07 - accuracy: 1.0000 - val_loss: 0.0000e+00 - val_accuracy: 1.0000\n",
      "Epoch 72/100\n",
      "342/342 [==============================] - 35s 103ms/step - loss: 5.8978e-07 - accuracy: 1.0000 - val_loss: 0.0000e+00 - val_accuracy: 1.0000\n",
      "Epoch 73/100\n",
      "342/342 [==============================] - 34s 101ms/step - loss: 2.4166e-07 - accuracy: 1.0000 - val_loss: 0.0000e+00 - val_accuracy: 1.0000\n",
      "Epoch 74/100\n",
      "342/342 [==============================] - 36s 104ms/step - loss: 4.7270e-06 - accuracy: 1.0000 - val_loss: 0.0000e+00 - val_accuracy: 1.0000\n",
      "Epoch 75/100\n",
      "342/342 [==============================] - 43s 125ms/step - loss: 1.0379e-06 - accuracy: 1.0000 - val_loss: 0.0000e+00 - val_accuracy: 1.0000\n",
      "Epoch 76/100\n",
      "342/342 [==============================] - 47s 136ms/step - loss: 4.0999e-07 - accuracy: 1.0000 - val_loss: 0.0000e+00 - val_accuracy: 1.0000\n",
      "Epoch 77/100\n",
      "342/342 [==============================] - 37s 108ms/step - loss: 5.8286e-08 - accuracy: 1.0000 - val_loss: 0.0000e+00 - val_accuracy: 1.0000\n",
      "Epoch 78/100\n",
      "342/342 [==============================] - 37s 109ms/step - loss: 6.3082e-08 - accuracy: 1.0000 - val_loss: 0.0000e+00 - val_accuracy: 1.0000\n",
      "Epoch 79/100\n",
      "342/342 [==============================] - 63s 185ms/step - loss: 3.8428e-08 - accuracy: 1.0000 - val_loss: 0.0000e+00 - val_accuracy: 1.0000\n",
      "Epoch 80/100\n",
      "342/342 [==============================] - 62s 182ms/step - loss: 2.7329e-07 - accuracy: 1.0000 - val_loss: 0.0000e+00 - val_accuracy: 1.0000\n",
      "Epoch 81/100\n",
      "342/342 [==============================] - 57s 167ms/step - loss: 1.4535e-08 - accuracy: 1.0000 - val_loss: 0.0000e+00 - val_accuracy: 1.0000\n",
      "Epoch 82/100\n",
      "342/342 [==============================] - 56s 164ms/step - loss: 1.6317e-07 - accuracy: 1.0000 - val_loss: 0.0000e+00 - val_accuracy: 1.0000\n",
      "Epoch 83/100\n",
      "342/342 [==============================] - 57s 168ms/step - loss: 1.0532e-07 - accuracy: 1.0000 - val_loss: 0.0000e+00 - val_accuracy: 1.0000\n",
      "Epoch 84/100\n",
      "342/342 [==============================] - 57s 166ms/step - loss: 2.4460e-08 - accuracy: 1.0000 - val_loss: 0.0000e+00 - val_accuracy: 1.0000\n",
      "Epoch 85/100\n",
      "342/342 [==============================] - 60s 175ms/step - loss: 1.0976e-07 - accuracy: 1.0000 - val_loss: 0.0000e+00 - val_accuracy: 1.0000\n",
      "Epoch 86/100\n",
      "342/342 [==============================] - 60s 175ms/step - loss: 1.7440e-07 - accuracy: 1.0000 - val_loss: 0.0000e+00 - val_accuracy: 1.0000\n",
      "Epoch 87/100\n",
      "342/342 [==============================] - 58s 169ms/step - loss: 0.0211 - accuracy: 0.9964 - val_loss: 1.0371e-07 - val_accuracy: 1.0000\n",
      "Epoch 88/100\n",
      "342/342 [==============================] - 57s 166ms/step - loss: 3.0684e-04 - accuracy: 0.9998 - val_loss: 0.0000e+00 - val_accuracy: 1.0000\n",
      "Epoch 89/100\n",
      "342/342 [==============================] - 58s 169ms/step - loss: 6.2528e-07 - accuracy: 1.0000 - val_loss: 0.0000e+00 - val_accuracy: 1.0000\n",
      "Epoch 90/100\n",
      "342/342 [==============================] - 57s 168ms/step - loss: 0.0039 - accuracy: 0.9993 - val_loss: 0.0000e+00 - val_accuracy: 1.0000\n",
      "Epoch 91/100\n",
      "342/342 [==============================] - 59s 171ms/step - loss: 0.0022 - accuracy: 0.9999 - val_loss: 0.0000e+00 - val_accuracy: 1.0000\n",
      "Epoch 92/100\n",
      "342/342 [==============================] - 60s 175ms/step - loss: 2.4335e-07 - accuracy: 1.0000 - val_loss: 0.0000e+00 - val_accuracy: 1.0000\n",
      "Epoch 93/100\n",
      "342/342 [==============================] - 61s 179ms/step - loss: 3.4118e-05 - accuracy: 1.0000 - val_loss: 0.0000e+00 - val_accuracy: 1.0000\n",
      "Epoch 94/100\n",
      "342/342 [==============================] - 59s 173ms/step - loss: 1.6117e-07 - accuracy: 1.0000 - val_loss: 0.0000e+00 - val_accuracy: 1.0000\n",
      "Epoch 95/100\n",
      "342/342 [==============================] - 58s 170ms/step - loss: 2.4264e-07 - accuracy: 1.0000 - val_loss: 0.0000e+00 - val_accuracy: 1.0000\n",
      "Epoch 96/100\n",
      "342/342 [==============================] - 58s 169ms/step - loss: 2.9861e-07 - accuracy: 1.0000 - val_loss: 0.0000e+00 - val_accuracy: 1.0000\n",
      "Epoch 97/100\n",
      "342/342 [==============================] - 58s 169ms/step - loss: 3.1432e-08 - accuracy: 1.0000 - val_loss: 0.0000e+00 - val_accuracy: 1.0000\n",
      "Epoch 98/100\n",
      "342/342 [==============================] - 58s 169ms/step - loss: 2.6161e-05 - accuracy: 1.0000 - val_loss: 0.0000e+00 - val_accuracy: 1.0000\n",
      "Epoch 99/100\n",
      "342/342 [==============================] - 59s 173ms/step - loss: 0.0255 - accuracy: 0.9958 - val_loss: 0.0000e+00 - val_accuracy: 1.0000\n",
      "Epoch 100/100\n",
      "342/342 [==============================] - 56s 165ms/step - loss: 1.9717e-05 - accuracy: 1.0000 - val_loss: 0.0000e+00 - val_accuracy: 1.0000\n"
     ]
    },
    {
     "data": {
      "text/plain": [
       "<keras.callbacks.History at 0x1fe1be6d130>"
      ]
     },
     "execution_count": 13,
     "metadata": {},
     "output_type": "execute_result"
    }
   ],
   "source": [
    "model.fit_generator(x_train,steps_per_epoch = 342 , epochs = 100 , validation_data = x_test,validation_steps = 10)"
   ]
  },
  {
   "cell_type": "code",
   "execution_count": 14,
   "id": "69a3c4ee",
   "metadata": {},
   "outputs": [
    {
     "name": "stdout",
     "output_type": "stream",
     "text": [
      "Model: \"sequential\"\n",
      "_________________________________________________________________\n",
      "Layer (type)                 Output Shape              Param #   \n",
      "=================================================================\n",
      "conv2d (Conv2D)              (None, 62, 62, 32)        896       \n",
      "_________________________________________________________________\n",
      "max_pooling2d (MaxPooling2D) (None, 31, 31, 32)        0         \n",
      "_________________________________________________________________\n",
      "flatten (Flatten)            (None, 30752)             0         \n",
      "_________________________________________________________________\n",
      "dense (Dense)                (None, 128)               3936384   \n",
      "_________________________________________________________________\n",
      "dense_1 (Dense)              (None, 3)                 387       \n",
      "=================================================================\n",
      "Total params: 3,937,667\n",
      "Trainable params: 3,937,667\n",
      "Non-trainable params: 0\n",
      "_________________________________________________________________\n"
     ]
    }
   ],
   "source": [
    "model.summary()"
   ]
  },
  {
   "cell_type": "code",
   "execution_count": 21,
   "id": "e17b9899",
   "metadata": {},
   "outputs": [],
   "source": [
    "model.save(\"shape.h5\")"
   ]
  },
  {
   "cell_type": "code",
   "execution_count": 22,
   "id": "6b5c465c",
   "metadata": {},
   "outputs": [],
   "source": [
    "from tensorflow.keras.models import load_model\n",
    "from tensorflow.keras.preprocessing import image"
   ]
  },
  {
   "cell_type": "code",
   "execution_count": 23,
   "id": "106958cd",
   "metadata": {},
   "outputs": [],
   "source": [
    "model = load_model(\"shape.h5\")"
   ]
  },
  {
   "cell_type": "code",
   "execution_count": 24,
   "id": "97f070f7",
   "metadata": {},
   "outputs": [],
   "source": [
    "img1 = image.load_img(r\"C:\\Project\\Dataset\\train\\circle\\101.png\", target_size = (64,64))"
   ]
  },
  {
   "cell_type": "code",
   "execution_count": 25,
   "id": "1efd3f17",
   "metadata": {},
   "outputs": [
    {
     "data": {
      "text/plain": [
       "PIL.Image.Image"
      ]
     },
     "execution_count": 25,
     "metadata": {},
     "output_type": "execute_result"
    }
   ],
   "source": [
    "type(img1)"
   ]
  },
  {
   "cell_type": "code",
   "execution_count": 26,
   "id": "3f1646a8",
   "metadata": {},
   "outputs": [],
   "source": [
    "x = image.img_to_array(img1)"
   ]
  },
  {
   "cell_type": "code",
   "execution_count": 27,
   "id": "f0e916b5",
   "metadata": {},
   "outputs": [
    {
     "data": {
      "text/plain": [
       "(64, 64, 3)"
      ]
     },
     "execution_count": 27,
     "metadata": {},
     "output_type": "execute_result"
    }
   ],
   "source": [
    "x.shape"
   ]
  },
  {
   "cell_type": "code",
   "execution_count": 28,
   "id": "a9967be2",
   "metadata": {},
   "outputs": [],
   "source": [
    "x = np.expand_dims(x, axis = 0)"
   ]
  },
  {
   "cell_type": "code",
   "execution_count": 29,
   "id": "498f357b",
   "metadata": {},
   "outputs": [
    {
     "data": {
      "text/plain": [
       "(1, 64, 64, 3)"
      ]
     },
     "execution_count": 29,
     "metadata": {},
     "output_type": "execute_result"
    }
   ],
   "source": [
    "x.shape"
   ]
  },
  {
   "cell_type": "code",
   "execution_count": 30,
   "id": "1851fe1f",
   "metadata": {},
   "outputs": [],
   "source": [
    "xpred = np.argmax(model.predict(x))"
   ]
  },
  {
   "cell_type": "code",
   "execution_count": 31,
   "id": "ffc1b7e7",
   "metadata": {},
   "outputs": [
    {
     "data": {
      "text/plain": [
       "0"
      ]
     },
     "execution_count": 31,
     "metadata": {},
     "output_type": "execute_result"
    }
   ],
   "source": [
    "xpred"
   ]
  },
  {
   "cell_type": "code",
   "execution_count": 34,
   "id": "8277d21d",
   "metadata": {},
   "outputs": [],
   "source": [
    "img2 = image.load_img(r\"C:\\Project\\Dataset\\train\\square\\101.png\", target_size  = (64,64))"
   ]
  },
  {
   "cell_type": "code",
   "execution_count": 35,
   "id": "f6ec882a",
   "metadata": {},
   "outputs": [],
   "source": [
    "y = image.img_to_array(img2)"
   ]
  },
  {
   "cell_type": "code",
   "execution_count": 36,
   "id": "64229085",
   "metadata": {},
   "outputs": [
    {
     "data": {
      "text/plain": [
       "(64, 64, 3)"
      ]
     },
     "execution_count": 36,
     "metadata": {},
     "output_type": "execute_result"
    }
   ],
   "source": [
    "y.shape"
   ]
  },
  {
   "cell_type": "code",
   "execution_count": 37,
   "id": "53132fea",
   "metadata": {},
   "outputs": [],
   "source": [
    "y = np.expand_dims(y, axis = 0)"
   ]
  },
  {
   "cell_type": "code",
   "execution_count": 38,
   "id": "58f21d03",
   "metadata": {},
   "outputs": [
    {
     "data": {
      "text/plain": [
       "(1, 64, 64, 3)"
      ]
     },
     "execution_count": 38,
     "metadata": {},
     "output_type": "execute_result"
    }
   ],
   "source": [
    "y.shape"
   ]
  },
  {
   "cell_type": "code",
   "execution_count": 39,
   "id": "226c66d0",
   "metadata": {},
   "outputs": [],
   "source": [
    "ypred = np.argmax(model.predict(y))"
   ]
  },
  {
   "cell_type": "code",
   "execution_count": 40,
   "id": "aa5878ce",
   "metadata": {},
   "outputs": [
    {
     "data": {
      "text/plain": [
       "1"
      ]
     },
     "execution_count": 40,
     "metadata": {},
     "output_type": "execute_result"
    }
   ],
   "source": [
    "ypred"
   ]
  },
  {
   "cell_type": "code",
   "execution_count": 41,
   "id": "bac8ebf0",
   "metadata": {},
   "outputs": [],
   "source": [
    "index = ['circle', 'square', 'triangle']"
   ]
  },
  {
   "cell_type": "code",
   "execution_count": 42,
   "id": "d71a6cd0",
   "metadata": {},
   "outputs": [],
   "source": [
    "prediction = index[xpred]"
   ]
  },
  {
   "cell_type": "code",
   "execution_count": 43,
   "id": "a293cdce",
   "metadata": {},
   "outputs": [
    {
     "data": {
      "text/plain": [
       "'circle'"
      ]
     },
     "execution_count": 43,
     "metadata": {},
     "output_type": "execute_result"
    }
   ],
   "source": [
    "prediction"
   ]
  },
  {
   "cell_type": "code",
   "execution_count": 44,
   "id": "d4ec881a",
   "metadata": {},
   "outputs": [],
   "source": [
    "prediction = index[ypred]"
   ]
  },
  {
   "cell_type": "code",
   "execution_count": 45,
   "id": "092534e8",
   "metadata": {},
   "outputs": [
    {
     "data": {
      "text/plain": [
       "'square'"
      ]
     },
     "execution_count": 45,
     "metadata": {},
     "output_type": "execute_result"
    }
   ],
   "source": [
    "prediction"
   ]
  },
  {
   "cell_type": "code",
   "execution_count": null,
   "id": "400d17a2",
   "metadata": {},
   "outputs": [],
   "source": []
  }
 ],
 "metadata": {
  "kernelspec": {
   "display_name": "Python 3",
   "language": "python",
   "name": "python3"
  },
  "language_info": {
   "codemirror_mode": {
    "name": "ipython",
    "version": 3
   },
   "file_extension": ".py",
   "mimetype": "text/x-python",
   "name": "python",
   "nbconvert_exporter": "python",
   "pygments_lexer": "ipython3",
   "version": "3.8.8"
  }
 },
 "nbformat": 4,
 "nbformat_minor": 5
}
